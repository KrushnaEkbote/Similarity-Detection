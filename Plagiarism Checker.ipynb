{
 "cells": [
  {
   "cell_type": "code",
   "execution_count": 1,
   "id": "a6127e45-62c6-4a57-ab2a-b58caa48621a",
   "metadata": {},
   "outputs": [
    {
     "name": "stdout",
     "output_type": "stream",
     "text": [
      "# conda environments:\n",
      "#\n",
      "base                     C:\\Users\\Shree\\anaconda3\n",
      "Env1                  *  C:\\Users\\Shree\\anaconda3\\envs\\Env1\n",
      "peenv1                   C:\\Users\\Shree\\anaconda3\\envs\\peenv1\n",
      "\n"
     ]
    }
   ],
   "source": [
    "!conda info --envs"
   ]
  },
  {
   "cell_type": "code",
   "execution_count": 3,
   "id": "fc87be96-f967-4ae3-8cca-8a29c1b1d1e7",
   "metadata": {},
   "outputs": [],
   "source": [
    "import os\n",
    "from sklearn.feature_extraction.text import TfidfVectorizer\n",
    "from sklearn.metrics.pairwise import cosine_similarity"
   ]
  },
  {
   "cell_type": "code",
   "execution_count": 11,
   "id": "b40870eb-8045-4ed5-9e87-117c44ea7428",
   "metadata": {},
   "outputs": [
    {
     "data": {
      "text/plain": [
       "[\"G:\\\\OneDrive - Army Institute of Technology\\\\Research\\\\Stage I - II\\\\Stage II Build\\\\Practice Projects\\\\Courses\\\\YTs\\\\Arsalan Khan's Workshop Plagiarism Checker Premium Project  NLP BootCamp\\\\Student Files\\\\Ekbote.txt\",\n",
       " \"G:\\\\OneDrive - Army Institute of Technology\\\\Research\\\\Stage I - II\\\\Stage II Build\\\\Practice Projects\\\\Courses\\\\YTs\\\\Arsalan Khan's Workshop Plagiarism Checker Premium Project  NLP BootCamp\\\\Student Files\\\\KLE.txt\",\n",
       " \"G:\\\\OneDrive - Army Institute of Technology\\\\Research\\\\Stage I - II\\\\Stage II Build\\\\Practice Projects\\\\Courses\\\\YTs\\\\Arsalan Khan's Workshop Plagiarism Checker Premium Project  NLP BootCamp\\\\Student Files\\\\Krushna.txt\"]"
      ]
     },
     "execution_count": 11,
     "metadata": {},
     "output_type": "execute_result"
    }
   ],
   "source": [
    "filedir = \"G:\\OneDrive - Army Institute of Technology\\Research\\Stage I - II\\Stage II Build\\Practice Projects\\Courses\\YTs\\Arsalan Khan's Workshop Plagiarism Checker Premium Project  NLP BootCamp\\Student Files\"\n",
    "student_files=[filedir + '\\\\' + doc for doc in os.listdir(filedir) if doc.endswith('.txt')]\n",
    "student_files"
   ]
  },
  {
   "cell_type": "code",
   "execution_count": 12,
   "id": "d724dbc7-8fdd-4013-bb4c-c16f5f618024",
   "metadata": {},
   "outputs": [
    {
     "data": {
      "text/plain": [
       "['However, the \"swarm\" towards comprehending AI is only beginning. I am excited for Dr. Ameet Joshi\\'s upcoming book on Machine Learning and Artificial Intelligence. A topic with such widespread interest and importance requires endless sources of knowledge and learning.\\nMachine learning and AI-related content remains limited in comparison to PC and Internet-era content. Even technical experts find this topic to be puzzling.',\n",
       " 'Move forward another 15 years. Advancements in Internet and mobile technology have resulted in rapid data creation and aggregation. Data has been physically scattered while remaining logically unified, allowing for virtually unlimited computational power. This became the \"Cloud.\" Organising and understanding such large amounts of data was beyond the capability of both humans and traditional algorithms.\\nTraditional algorithms struggled to search and make sense of the vast amount of data available. \\n',\n",
       " 'The abundance of data allows computers to move beyond \"processing information\" to \"creating intelligence\" by making sense of it. The cloud\\'s simple access to enormous amounts of data and compute has re-energized decades of ML and AI research, resulting in significant advancements. As a result, we have officially entered the age of \"AI.\" AI has the potential to impact society and humanity in unprecedented ways, similar to how the PC and Internet revolutions changed computers.\\n']"
      ]
     },
     "execution_count": 12,
     "metadata": {},
     "output_type": "execute_result"
    }
   ],
   "source": [
    "student_notes = [open(_file, encoding = 'utf-8').read() for _file in student_files]\n",
    "student_notes"
   ]
  },
  {
   "cell_type": "code",
   "execution_count": 14,
   "id": "06f7913e-0c4d-4412-959a-5572a08ef24e",
   "metadata": {},
   "outputs": [],
   "source": [
    "def vectorize(text):\n",
    "    return TfidfVectorizer().fit_transform(text).toarray()\n",
    "\n",
    "def similarity(doc1, doc2):\n",
    "    return cosine_similarity([doc1, doc2])"
   ]
  },
  {
   "cell_type": "code",
   "execution_count": 15,
   "id": "af4a2be7-55e9-439e-bf05-acf39fcf6fb6",
   "metadata": {},
   "outputs": [
    {
     "data": {
      "text/plain": [
       "array([[0.        , 0.        , 0.        , 0.        , 0.        ,\n",
       "        0.        , 0.17837183, 0.        , 0.        , 0.        ,\n",
       "        0.11726876, 0.11726876, 0.        , 0.        , 0.34630409,\n",
       "        0.        , 0.11726876, 0.        , 0.        , 0.11726876,\n",
       "        0.        , 0.        , 0.11726876, 0.        , 0.11726876,\n",
       "        0.        , 0.        , 0.        , 0.        , 0.        ,\n",
       "        0.11726876, 0.11726876, 0.        , 0.        , 0.        ,\n",
       "        0.23453752, 0.        , 0.        , 0.        , 0.        ,\n",
       "        0.11726876, 0.11726876, 0.        , 0.        , 0.        ,\n",
       "        0.11726876, 0.11726876, 0.11726876, 0.11726876, 0.11726876,\n",
       "        0.08918591, 0.        , 0.        , 0.        , 0.        ,\n",
       "        0.11726876, 0.        , 0.        , 0.        , 0.11726876,\n",
       "        0.06926082, 0.        , 0.08918591, 0.11726876, 0.06926082,\n",
       "        0.11726876, 0.        , 0.11726876, 0.11726876, 0.        ,\n",
       "        0.35180627, 0.11726876, 0.        , 0.23453752, 0.        ,\n",
       "        0.        , 0.        , 0.        , 0.        , 0.06926082,\n",
       "        0.        , 0.11726876, 0.11726876, 0.        , 0.08918591,\n",
       "        0.        , 0.        , 0.        , 0.        , 0.11726876,\n",
       "        0.        , 0.        , 0.11726876, 0.        , 0.11726876,\n",
       "        0.11726876, 0.        , 0.        , 0.        , 0.        ,\n",
       "        0.        , 0.        , 0.        , 0.        , 0.        ,\n",
       "        0.        , 0.        , 0.        , 0.11726876, 0.        ,\n",
       "        0.08918591, 0.11726876, 0.11726876, 0.        , 0.06926082,\n",
       "        0.08918591, 0.13852164, 0.23453752, 0.11726876, 0.        ,\n",
       "        0.        , 0.        , 0.        , 0.        , 0.11726876,\n",
       "        0.        , 0.        , 0.        , 0.        , 0.        ,\n",
       "        0.        , 0.11726876, 0.11726876, 0.        ],\n",
       "       [0.11240134, 0.        , 0.        , 0.08548411, 0.        ,\n",
       "        0.11240134, 0.        , 0.22480267, 0.11240134, 0.        ,\n",
       "        0.        , 0.        , 0.11240134, 0.08548411, 0.3319302 ,\n",
       "        0.11240134, 0.        , 0.        , 0.11240134, 0.        ,\n",
       "        0.11240134, 0.11240134, 0.        , 0.08548411, 0.        ,\n",
       "        0.11240134, 0.        , 0.11240134, 0.        , 0.08548411,\n",
       "        0.        , 0.        , 0.11240134, 0.        , 0.        ,\n",
       "        0.        , 0.        , 0.11240134, 0.34193645, 0.        ,\n",
       "        0.        , 0.        , 0.        , 0.        , 0.        ,\n",
       "        0.        , 0.        , 0.        , 0.        , 0.        ,\n",
       "        0.08548411, 0.11240134, 0.08548411, 0.08548411, 0.        ,\n",
       "        0.        , 0.        , 0.11240134, 0.        , 0.        ,\n",
       "        0.13277208, 0.        , 0.        , 0.        , 0.06638604,\n",
       "        0.        , 0.        , 0.        , 0.        , 0.11240134,\n",
       "        0.        , 0.        , 0.11240134, 0.        , 0.11240134,\n",
       "        0.        , 0.        , 0.11240134, 0.08548411, 0.26554416,\n",
       "        0.        , 0.        , 0.        , 0.11240134, 0.        ,\n",
       "        0.11240134, 0.        , 0.11240134, 0.        , 0.        ,\n",
       "        0.11240134, 0.        , 0.        , 0.11240134, 0.        ,\n",
       "        0.        , 0.        , 0.        , 0.11240134, 0.        ,\n",
       "        0.        , 0.11240134, 0.11240134, 0.08548411, 0.        ,\n",
       "        0.        , 0.        , 0.        , 0.        , 0.11240134,\n",
       "        0.08548411, 0.        , 0.        , 0.11240134, 0.19915812,\n",
       "        0.08548411, 0.06638604, 0.        , 0.        , 0.22480267,\n",
       "        0.11240134, 0.11240134, 0.11240134, 0.        , 0.        ,\n",
       "        0.11240134, 0.11240134, 0.11240134, 0.        , 0.        ,\n",
       "        0.11240134, 0.        , 0.        , 0.11240134],\n",
       "       [0.        , 0.10688873, 0.10688873, 0.08129163, 0.10688873,\n",
       "        0.        , 0.2438749 , 0.        , 0.        , 0.10688873,\n",
       "        0.        , 0.        , 0.        , 0.08129163, 0.25252082,\n",
       "        0.        , 0.        , 0.10688873, 0.        , 0.        ,\n",
       "        0.        , 0.        , 0.        , 0.08129163, 0.        ,\n",
       "        0.        , 0.10688873, 0.        , 0.10688873, 0.08129163,\n",
       "        0.        , 0.        , 0.        , 0.10688873, 0.21377746,\n",
       "        0.        , 0.10688873, 0.        , 0.16258327, 0.10688873,\n",
       "        0.        , 0.        , 0.10688873, 0.10688873, 0.10688873,\n",
       "        0.        , 0.        , 0.        , 0.        , 0.        ,\n",
       "        0.        , 0.        , 0.16258327, 0.08129163, 0.10688873,\n",
       "        0.        , 0.10688873, 0.        , 0.10688873, 0.        ,\n",
       "        0.12626041, 0.10688873, 0.08129163, 0.        , 0.06313021,\n",
       "        0.        , 0.10688873, 0.        , 0.        , 0.        ,\n",
       "        0.        , 0.        , 0.        , 0.        , 0.        ,\n",
       "        0.10688873, 0.10688873, 0.        , 0.08129163, 0.31565103,\n",
       "        0.10688873, 0.        , 0.        , 0.        , 0.08129163,\n",
       "        0.        , 0.10688873, 0.        , 0.10688873, 0.        ,\n",
       "        0.        , 0.10688873, 0.        , 0.        , 0.        ,\n",
       "        0.        , 0.10688873, 0.10688873, 0.        , 0.10688873,\n",
       "        0.10688873, 0.        , 0.        , 0.08129163, 0.10688873,\n",
       "        0.10688873, 0.10688873, 0.10688873, 0.        , 0.        ,\n",
       "        0.        , 0.        , 0.        , 0.        , 0.31565103,\n",
       "        0.        , 0.31565103, 0.        , 0.        , 0.        ,\n",
       "        0.        , 0.        , 0.        , 0.10688873, 0.        ,\n",
       "        0.        , 0.        , 0.        , 0.10688873, 0.10688873,\n",
       "        0.        , 0.        , 0.        , 0.        ]])"
      ]
     },
     "execution_count": 15,
     "metadata": {},
     "output_type": "execute_result"
    }
   ],
   "source": [
    "vectors = vectorize(student_notes)\n",
    "vectors"
   ]
  },
  {
   "cell_type": "code",
   "execution_count": 16,
   "id": "cf9ed44c-38d6-4cd6-aad9-adb4b8ef7500",
   "metadata": {},
   "outputs": [
    {
     "data": {
      "text/plain": [
       "[(\"G:\\\\OneDrive - Army Institute of Technology\\\\Research\\\\Stage I - II\\\\Stage II Build\\\\Practice Projects\\\\Courses\\\\YTs\\\\Arsalan Khan's Workshop Plagiarism Checker Premium Project  NLP BootCamp\\\\Student Files\\\\Ekbote.txt\",\n",
       "  array([0.        , 0.        , 0.        , 0.        , 0.        ,\n",
       "         0.        , 0.17837183, 0.        , 0.        , 0.        ,\n",
       "         0.11726876, 0.11726876, 0.        , 0.        , 0.34630409,\n",
       "         0.        , 0.11726876, 0.        , 0.        , 0.11726876,\n",
       "         0.        , 0.        , 0.11726876, 0.        , 0.11726876,\n",
       "         0.        , 0.        , 0.        , 0.        , 0.        ,\n",
       "         0.11726876, 0.11726876, 0.        , 0.        , 0.        ,\n",
       "         0.23453752, 0.        , 0.        , 0.        , 0.        ,\n",
       "         0.11726876, 0.11726876, 0.        , 0.        , 0.        ,\n",
       "         0.11726876, 0.11726876, 0.11726876, 0.11726876, 0.11726876,\n",
       "         0.08918591, 0.        , 0.        , 0.        , 0.        ,\n",
       "         0.11726876, 0.        , 0.        , 0.        , 0.11726876,\n",
       "         0.06926082, 0.        , 0.08918591, 0.11726876, 0.06926082,\n",
       "         0.11726876, 0.        , 0.11726876, 0.11726876, 0.        ,\n",
       "         0.35180627, 0.11726876, 0.        , 0.23453752, 0.        ,\n",
       "         0.        , 0.        , 0.        , 0.        , 0.06926082,\n",
       "         0.        , 0.11726876, 0.11726876, 0.        , 0.08918591,\n",
       "         0.        , 0.        , 0.        , 0.        , 0.11726876,\n",
       "         0.        , 0.        , 0.11726876, 0.        , 0.11726876,\n",
       "         0.11726876, 0.        , 0.        , 0.        , 0.        ,\n",
       "         0.        , 0.        , 0.        , 0.        , 0.        ,\n",
       "         0.        , 0.        , 0.        , 0.11726876, 0.        ,\n",
       "         0.08918591, 0.11726876, 0.11726876, 0.        , 0.06926082,\n",
       "         0.08918591, 0.13852164, 0.23453752, 0.11726876, 0.        ,\n",
       "         0.        , 0.        , 0.        , 0.        , 0.11726876,\n",
       "         0.        , 0.        , 0.        , 0.        , 0.        ,\n",
       "         0.        , 0.11726876, 0.11726876, 0.        ])),\n",
       " (\"G:\\\\OneDrive - Army Institute of Technology\\\\Research\\\\Stage I - II\\\\Stage II Build\\\\Practice Projects\\\\Courses\\\\YTs\\\\Arsalan Khan's Workshop Plagiarism Checker Premium Project  NLP BootCamp\\\\Student Files\\\\KLE.txt\",\n",
       "  array([0.11240134, 0.        , 0.        , 0.08548411, 0.        ,\n",
       "         0.11240134, 0.        , 0.22480267, 0.11240134, 0.        ,\n",
       "         0.        , 0.        , 0.11240134, 0.08548411, 0.3319302 ,\n",
       "         0.11240134, 0.        , 0.        , 0.11240134, 0.        ,\n",
       "         0.11240134, 0.11240134, 0.        , 0.08548411, 0.        ,\n",
       "         0.11240134, 0.        , 0.11240134, 0.        , 0.08548411,\n",
       "         0.        , 0.        , 0.11240134, 0.        , 0.        ,\n",
       "         0.        , 0.        , 0.11240134, 0.34193645, 0.        ,\n",
       "         0.        , 0.        , 0.        , 0.        , 0.        ,\n",
       "         0.        , 0.        , 0.        , 0.        , 0.        ,\n",
       "         0.08548411, 0.11240134, 0.08548411, 0.08548411, 0.        ,\n",
       "         0.        , 0.        , 0.11240134, 0.        , 0.        ,\n",
       "         0.13277208, 0.        , 0.        , 0.        , 0.06638604,\n",
       "         0.        , 0.        , 0.        , 0.        , 0.11240134,\n",
       "         0.        , 0.        , 0.11240134, 0.        , 0.11240134,\n",
       "         0.        , 0.        , 0.11240134, 0.08548411, 0.26554416,\n",
       "         0.        , 0.        , 0.        , 0.11240134, 0.        ,\n",
       "         0.11240134, 0.        , 0.11240134, 0.        , 0.        ,\n",
       "         0.11240134, 0.        , 0.        , 0.11240134, 0.        ,\n",
       "         0.        , 0.        , 0.        , 0.11240134, 0.        ,\n",
       "         0.        , 0.11240134, 0.11240134, 0.08548411, 0.        ,\n",
       "         0.        , 0.        , 0.        , 0.        , 0.11240134,\n",
       "         0.08548411, 0.        , 0.        , 0.11240134, 0.19915812,\n",
       "         0.08548411, 0.06638604, 0.        , 0.        , 0.22480267,\n",
       "         0.11240134, 0.11240134, 0.11240134, 0.        , 0.        ,\n",
       "         0.11240134, 0.11240134, 0.11240134, 0.        , 0.        ,\n",
       "         0.11240134, 0.        , 0.        , 0.11240134])),\n",
       " (\"G:\\\\OneDrive - Army Institute of Technology\\\\Research\\\\Stage I - II\\\\Stage II Build\\\\Practice Projects\\\\Courses\\\\YTs\\\\Arsalan Khan's Workshop Plagiarism Checker Premium Project  NLP BootCamp\\\\Student Files\\\\Krushna.txt\",\n",
       "  array([0.        , 0.10688873, 0.10688873, 0.08129163, 0.10688873,\n",
       "         0.        , 0.2438749 , 0.        , 0.        , 0.10688873,\n",
       "         0.        , 0.        , 0.        , 0.08129163, 0.25252082,\n",
       "         0.        , 0.        , 0.10688873, 0.        , 0.        ,\n",
       "         0.        , 0.        , 0.        , 0.08129163, 0.        ,\n",
       "         0.        , 0.10688873, 0.        , 0.10688873, 0.08129163,\n",
       "         0.        , 0.        , 0.        , 0.10688873, 0.21377746,\n",
       "         0.        , 0.10688873, 0.        , 0.16258327, 0.10688873,\n",
       "         0.        , 0.        , 0.10688873, 0.10688873, 0.10688873,\n",
       "         0.        , 0.        , 0.        , 0.        , 0.        ,\n",
       "         0.        , 0.        , 0.16258327, 0.08129163, 0.10688873,\n",
       "         0.        , 0.10688873, 0.        , 0.10688873, 0.        ,\n",
       "         0.12626041, 0.10688873, 0.08129163, 0.        , 0.06313021,\n",
       "         0.        , 0.10688873, 0.        , 0.        , 0.        ,\n",
       "         0.        , 0.        , 0.        , 0.        , 0.        ,\n",
       "         0.10688873, 0.10688873, 0.        , 0.08129163, 0.31565103,\n",
       "         0.10688873, 0.        , 0.        , 0.        , 0.08129163,\n",
       "         0.        , 0.10688873, 0.        , 0.10688873, 0.        ,\n",
       "         0.        , 0.10688873, 0.        , 0.        , 0.        ,\n",
       "         0.        , 0.10688873, 0.10688873, 0.        , 0.10688873,\n",
       "         0.10688873, 0.        , 0.        , 0.08129163, 0.10688873,\n",
       "         0.10688873, 0.10688873, 0.10688873, 0.        , 0.        ,\n",
       "         0.        , 0.        , 0.        , 0.        , 0.31565103,\n",
       "         0.        , 0.31565103, 0.        , 0.        , 0.        ,\n",
       "         0.        , 0.        , 0.        , 0.10688873, 0.        ,\n",
       "         0.        , 0.        , 0.        , 0.10688873, 0.10688873,\n",
       "         0.        , 0.        , 0.        , 0.        ]))]"
      ]
     },
     "execution_count": 16,
     "metadata": {},
     "output_type": "execute_result"
    }
   ],
   "source": [
    "s_vectors = list(zip(student_files, vectors))\n",
    "s_vectors"
   ]
  },
  {
   "cell_type": "code",
   "execution_count": 31,
   "id": "c19cecce-e918-40e1-b4aa-55d28cc4297b",
   "metadata": {},
   "outputs": [
    {
     "name": "stdout",
     "output_type": "stream",
     "text": [
      "0\n",
      "1\n",
      "2\n"
     ]
    }
   ],
   "source": [
    "for student_a, text_vector_a in s_vectors:\n",
    "    new_vectors = s_vectors.copy()\n",
    "    current_index = new_vectors.index((student_a, text_vector_a))\n",
    "    print(current_index)"
   ]
  },
  {
   "cell_type": "code",
   "execution_count": 36,
   "id": "9e3f2333-b1fd-42c3-9319-4228fa80901d",
   "metadata": {},
   "outputs": [
    {
     "name": "stdout",
     "output_type": "stream",
     "text": [
      "0\n",
      "[[1. 1.]\n",
      " [1. 1.]]\n",
      "[\"G:\\\\OneDrive - Army Institute of Technology\\\\Research\\\\Stage I - II\\\\Stage II Build\\\\Practice Projects\\\\Courses\\\\YTs\\\\Arsalan Khan's Workshop Plagiarism Checker Premium Project  NLP BootCamp\\\\Student Files\\\\Ekbote.txt\", \"G:\\\\OneDrive - Army Institute of Technology\\\\Research\\\\Stage I - II\\\\Stage II Build\\\\Practice Projects\\\\Courses\\\\YTs\\\\Arsalan Khan's Workshop Plagiarism Checker Premium Project  NLP BootCamp\\\\Student Files\\\\Ekbote.txt\"]\n",
      "[[1.         0.19299614]\n",
      " [0.19299614 1.        ]]\n",
      "[\"G:\\\\OneDrive - Army Institute of Technology\\\\Research\\\\Stage I - II\\\\Stage II Build\\\\Practice Projects\\\\Courses\\\\YTs\\\\Arsalan Khan's Workshop Plagiarism Checker Premium Project  NLP BootCamp\\\\Student Files\\\\Ekbote.txt\", \"G:\\\\OneDrive - Army Institute of Technology\\\\Research\\\\Stage I - II\\\\Stage II Build\\\\Practice Projects\\\\Courses\\\\YTs\\\\Arsalan Khan's Workshop Plagiarism Checker Premium Project  NLP BootCamp\\\\Student Files\\\\KLE.txt\"]\n",
      "[[1.         0.24601589]\n",
      " [0.24601589 1.        ]]\n",
      "[\"G:\\\\OneDrive - Army Institute of Technology\\\\Research\\\\Stage I - II\\\\Stage II Build\\\\Practice Projects\\\\Courses\\\\YTs\\\\Arsalan Khan's Workshop Plagiarism Checker Premium Project  NLP BootCamp\\\\Student Files\\\\Ekbote.txt\", \"G:\\\\OneDrive - Army Institute of Technology\\\\Research\\\\Stage I - II\\\\Stage II Build\\\\Practice Projects\\\\Courses\\\\YTs\\\\Arsalan Khan's Workshop Plagiarism Checker Premium Project  NLP BootCamp\\\\Student Files\\\\Krushna.txt\"]\n",
      "(\"G:\\\\OneDrive - Army Institute of Technology\\\\Research\\\\Stage I - II\\\\Stage II Build\\\\Practice Projects\\\\Courses\\\\YTs\\\\Arsalan Khan's Workshop Plagiarism Checker Premium Project  NLP BootCamp\\\\Student Files\\\\Ekbote.txt\", \"G:\\\\OneDrive - Army Institute of Technology\\\\Research\\\\Stage I - II\\\\Stage II Build\\\\Practice Projects\\\\Courses\\\\YTs\\\\Arsalan Khan's Workshop Plagiarism Checker Premium Project  NLP BootCamp\\\\Student Files\\\\Ekbote.txt\")\n",
      "(\"G:\\\\OneDrive - Army Institute of Technology\\\\Research\\\\Stage I - II\\\\Stage II Build\\\\Practice Projects\\\\Courses\\\\YTs\\\\Arsalan Khan's Workshop Plagiarism Checker Premium Project  NLP BootCamp\\\\Student Files\\\\Ekbote.txt\", \"G:\\\\OneDrive - Army Institute of Technology\\\\Research\\\\Stage I - II\\\\Stage II Build\\\\Practice Projects\\\\Courses\\\\YTs\\\\Arsalan Khan's Workshop Plagiarism Checker Premium Project  NLP BootCamp\\\\Student Files\\\\Krushna.txt\")\n",
      "(\"G:\\\\OneDrive - Army Institute of Technology\\\\Research\\\\Stage I - II\\\\Stage II Build\\\\Practice Projects\\\\Courses\\\\YTs\\\\Arsalan Khan's Workshop Plagiarism Checker Premium Project  NLP BootCamp\\\\Student Files\\\\Ekbote.txt\", \"G:\\\\OneDrive - Army Institute of Technology\\\\Research\\\\Stage I - II\\\\Stage II Build\\\\Practice Projects\\\\Courses\\\\YTs\\\\Arsalan Khan's Workshop Plagiarism Checker Premium Project  NLP BootCamp\\\\Student Files\\\\KLE.txt\")\n"
     ]
    }
   ],
   "source": [
    "plagiarism_results = set()\n",
    "\n",
    "def check_plagiarism():\n",
    "    \n",
    "    global s_vectors\n",
    "    \n",
    "    for student_a, text_vector_a in s_vectors:\n",
    "        new_vectors = s_vectors.copy()\n",
    "        current_index = new_vectors.index((student_a, text_vector_a))\n",
    "        print(current_index)\n",
    "        \n",
    "        #del new_vectors[current_index] #delete the selected index from new_vectors\n",
    "        \n",
    "        for student_b, text_vector_b in new_vectors:\n",
    "            sim_score = similarity(text_vector_a, text_vector_b) [0][1]\n",
    "            student_pair = sorted((student_a, student_b))\n",
    "            \n",
    "            print(similarity(text_vector_a, text_vector_b))\n",
    "            print(student_pair)\n",
    "            \n",
    "            score = (student_pair[0], student_pair[1])\n",
    "            plagiarism_results.add(score)\n",
    "            #print(plagiarism_results)\n",
    "            \n",
    "        return plagiarism_results\n",
    "    \n",
    "for data in check_plagiarism():\n",
    "    print(data)"
   ]
  },
  {
   "cell_type": "code",
   "execution_count": 35,
   "id": "82880675-d696-4da6-ab98-f0c740a764c0",
   "metadata": {},
   "outputs": [
    {
     "name": "stdout",
     "output_type": "stream",
     "text": [
      "0\n",
      "[[1. 1.]\n",
      " [1. 1.]]\n",
      "[\"G:\\\\OneDrive - Army Institute of Technology\\\\Research\\\\Stage I - II\\\\Stage II Build\\\\Practice Projects\\\\Courses\\\\YTs\\\\Arsalan Khan's Workshop Plagiarism Checker Premium Project  NLP BootCamp\\\\Student Files\\\\Ekbote.txt\", \"G:\\\\OneDrive - Army Institute of Technology\\\\Research\\\\Stage I - II\\\\Stage II Build\\\\Practice Projects\\\\Courses\\\\YTs\\\\Arsalan Khan's Workshop Plagiarism Checker Premium Project  NLP BootCamp\\\\Student Files\\\\Ekbote.txt\"]\n",
      "[[1.         0.19299614]\n",
      " [0.19299614 1.        ]]\n",
      "[\"G:\\\\OneDrive - Army Institute of Technology\\\\Research\\\\Stage I - II\\\\Stage II Build\\\\Practice Projects\\\\Courses\\\\YTs\\\\Arsalan Khan's Workshop Plagiarism Checker Premium Project  NLP BootCamp\\\\Student Files\\\\Ekbote.txt\", \"G:\\\\OneDrive - Army Institute of Technology\\\\Research\\\\Stage I - II\\\\Stage II Build\\\\Practice Projects\\\\Courses\\\\YTs\\\\Arsalan Khan's Workshop Plagiarism Checker Premium Project  NLP BootCamp\\\\Student Files\\\\KLE.txt\"]\n",
      "[[1.         0.24601589]\n",
      " [0.24601589 1.        ]]\n",
      "[\"G:\\\\OneDrive - Army Institute of Technology\\\\Research\\\\Stage I - II\\\\Stage II Build\\\\Practice Projects\\\\Courses\\\\YTs\\\\Arsalan Khan's Workshop Plagiarism Checker Premium Project  NLP BootCamp\\\\Student Files\\\\Ekbote.txt\", \"G:\\\\OneDrive - Army Institute of Technology\\\\Research\\\\Stage I - II\\\\Stage II Build\\\\Practice Projects\\\\Courses\\\\YTs\\\\Arsalan Khan's Workshop Plagiarism Checker Premium Project  NLP BootCamp\\\\Student Files\\\\Krushna.txt\"]\n",
      "(\"G:\\\\OneDrive - Army Institute of Technology\\\\Research\\\\Stage I - II\\\\Stage II Build\\\\Practice Projects\\\\Courses\\\\YTs\\\\Arsalan Khan's Workshop Plagiarism Checker Premium Project  NLP BootCamp\\\\Student Files\\\\Ekbote.txt\", \"G:\\\\OneDrive - Army Institute of Technology\\\\Research\\\\Stage I - II\\\\Stage II Build\\\\Practice Projects\\\\Courses\\\\YTs\\\\Arsalan Khan's Workshop Plagiarism Checker Premium Project  NLP BootCamp\\\\Student Files\\\\Ekbote.txt\")\n",
      "(\"G:\\\\OneDrive - Army Institute of Technology\\\\Research\\\\Stage I - II\\\\Stage II Build\\\\Practice Projects\\\\Courses\\\\YTs\\\\Arsalan Khan's Workshop Plagiarism Checker Premium Project  NLP BootCamp\\\\Student Files\\\\Ekbote.txt\", \"G:\\\\OneDrive - Army Institute of Technology\\\\Research\\\\Stage I - II\\\\Stage II Build\\\\Practice Projects\\\\Courses\\\\YTs\\\\Arsalan Khan's Workshop Plagiarism Checker Premium Project  NLP BootCamp\\\\Student Files\\\\Krushna.txt\")\n",
      "(\"G:\\\\OneDrive - Army Institute of Technology\\\\Research\\\\Stage I - II\\\\Stage II Build\\\\Practice Projects\\\\Courses\\\\YTs\\\\Arsalan Khan's Workshop Plagiarism Checker Premium Project  NLP BootCamp\\\\Student Files\\\\Ekbote.txt\", \"G:\\\\OneDrive - Army Institute of Technology\\\\Research\\\\Stage I - II\\\\Stage II Build\\\\Practice Projects\\\\Courses\\\\YTs\\\\Arsalan Khan's Workshop Plagiarism Checker Premium Project  NLP BootCamp\\\\Student Files\\\\KLE.txt\")\n"
     ]
    }
   ],
   "source": [
    "for data in check_plagiarism():\n",
    "    print(data)"
   ]
  },
  {
   "cell_type": "code",
   "execution_count": null,
   "id": "cf421577-273f-43e5-91c1-4d284f3b75ef",
   "metadata": {},
   "outputs": [],
   "source": []
  }
 ],
 "metadata": {
  "kernelspec": {
   "display_name": "Env1",
   "language": "python",
   "name": "env1"
  },
  "language_info": {
   "codemirror_mode": {
    "name": "ipython",
    "version": 3
   },
   "file_extension": ".py",
   "mimetype": "text/x-python",
   "name": "python",
   "nbconvert_exporter": "python",
   "pygments_lexer": "ipython3",
   "version": "3.7.15"
  }
 },
 "nbformat": 4,
 "nbformat_minor": 5
}
